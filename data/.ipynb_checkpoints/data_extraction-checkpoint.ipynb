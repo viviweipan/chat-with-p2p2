{
 "cells": [
  {
   "cell_type": "code",
   "execution_count": 64,
   "metadata": {},
   "outputs": [],
   "source": [
    "# https://www.kaggle.com/akerlyn/wordcloud-based-on-character\n",
    "import pandas as pd\n",
    "import numpy as np\n",
    "import os\n",
    "import collections\n",
    "from wordcloud import WordCloud\n",
    "import re\n",
    "import matplotlib.pyplot as plt"
   ]
  },
  {
   "cell_type": "code",
   "execution_count": 13,
   "metadata": {},
   "outputs": [
    {
     "name": "stdout",
     "output_type": "stream",
     "text": [
      "['movie_conversations.tsv', 'movie_titles_metadata.tsv', 'movie_characters_metadata.tsv', 'movie_lines.tsv', 'README.txt', '.ipynb_checkpoints', 'raw_script_urls.tsv']\n"
     ]
    }
   ],
   "source": [
    "print(os.listdir(\"./movie-dialog-corpus/\"))"
   ]
  },
  {
   "cell_type": "code",
   "execution_count": 27,
   "metadata": {},
   "outputs": [
    {
     "data": {
      "text/html": [
       "<div>\n",
       "<style scoped>\n",
       "    .dataframe tbody tr th:only-of-type {\n",
       "        vertical-align: middle;\n",
       "    }\n",
       "\n",
       "    .dataframe tbody tr th {\n",
       "        vertical-align: top;\n",
       "    }\n",
       "\n",
       "    .dataframe thead th {\n",
       "        text-align: right;\n",
       "    }\n",
       "</style>\n",
       "<table border=\"1\" class=\"dataframe\">\n",
       "  <thead>\n",
       "    <tr style=\"text-align: right;\">\n",
       "      <th></th>\n",
       "      <th>chId</th>\n",
       "      <th>chId2</th>\n",
       "      <th>mId</th>\n",
       "      <th>lines</th>\n",
       "    </tr>\n",
       "  </thead>\n",
       "  <tbody>\n",
       "    <tr>\n",
       "      <td>0</td>\n",
       "      <td>u0</td>\n",
       "      <td>u2</td>\n",
       "      <td>m0</td>\n",
       "      <td>['L194' 'L195' 'L196' 'L197']</td>\n",
       "    </tr>\n",
       "    <tr>\n",
       "      <td>1</td>\n",
       "      <td>u0</td>\n",
       "      <td>u2</td>\n",
       "      <td>m0</td>\n",
       "      <td>['L198' 'L199']</td>\n",
       "    </tr>\n",
       "    <tr>\n",
       "      <td>2</td>\n",
       "      <td>u0</td>\n",
       "      <td>u2</td>\n",
       "      <td>m0</td>\n",
       "      <td>['L200' 'L201' 'L202' 'L203']</td>\n",
       "    </tr>\n",
       "    <tr>\n",
       "      <td>3</td>\n",
       "      <td>u0</td>\n",
       "      <td>u2</td>\n",
       "      <td>m0</td>\n",
       "      <td>['L204' 'L205' 'L206']</td>\n",
       "    </tr>\n",
       "    <tr>\n",
       "      <td>4</td>\n",
       "      <td>u0</td>\n",
       "      <td>u2</td>\n",
       "      <td>m0</td>\n",
       "      <td>['L207' 'L208']</td>\n",
       "    </tr>\n",
       "  </tbody>\n",
       "</table>\n",
       "</div>"
      ],
      "text/plain": [
       "  chId chId2 mId                          lines\n",
       "0   u0    u2  m0  ['L194' 'L195' 'L196' 'L197']\n",
       "1   u0    u2  m0                ['L198' 'L199']\n",
       "2   u0    u2  m0  ['L200' 'L201' 'L202' 'L203']\n",
       "3   u0    u2  m0         ['L204' 'L205' 'L206']\n",
       "4   u0    u2  m0                ['L207' 'L208']"
      ]
     },
     "execution_count": 27,
     "metadata": {},
     "output_type": "execute_result"
    }
   ],
   "source": [
    "conv_df = pd.read_csv(\"./movie-dialog-corpus/movie_conversations.tsv\", encoding='utf-8-sig', warn_bad_lines=False,sep='\\t', header=None)\n",
    "conv_df.columns = ['chId', 'chId2', 'mId', 'lines']\n",
    "conv_df.head()\n",
    "\n"
   ]
  },
  {
   "cell_type": "code",
   "execution_count": 30,
   "metadata": {},
   "outputs": [
    {
     "data": {
      "text/html": [
       "<div>\n",
       "<style scoped>\n",
       "    .dataframe tbody tr th:only-of-type {\n",
       "        vertical-align: middle;\n",
       "    }\n",
       "\n",
       "    .dataframe tbody tr th {\n",
       "        vertical-align: top;\n",
       "    }\n",
       "\n",
       "    .dataframe thead th {\n",
       "        text-align: right;\n",
       "    }\n",
       "</style>\n",
       "<table border=\"1\" class=\"dataframe\">\n",
       "  <thead>\n",
       "    <tr style=\"text-align: right;\">\n",
       "      <th></th>\n",
       "      <th>lineId</th>\n",
       "      <th>chId</th>\n",
       "      <th>mId</th>\n",
       "      <th>chName</th>\n",
       "      <th>dialogue</th>\n",
       "    </tr>\n",
       "  </thead>\n",
       "  <tbody>\n",
       "    <tr>\n",
       "      <td>0</td>\n",
       "      <td>L1045</td>\n",
       "      <td>u0</td>\n",
       "      <td>m0</td>\n",
       "      <td>BIANCA</td>\n",
       "      <td>They do not!</td>\n",
       "    </tr>\n",
       "    <tr>\n",
       "      <td>1</td>\n",
       "      <td>L1044</td>\n",
       "      <td>u2</td>\n",
       "      <td>m0</td>\n",
       "      <td>CAMERON</td>\n",
       "      <td>They do to!</td>\n",
       "    </tr>\n",
       "    <tr>\n",
       "      <td>2</td>\n",
       "      <td>L985</td>\n",
       "      <td>u0</td>\n",
       "      <td>m0</td>\n",
       "      <td>BIANCA</td>\n",
       "      <td>I hope so.</td>\n",
       "    </tr>\n",
       "    <tr>\n",
       "      <td>3</td>\n",
       "      <td>L984</td>\n",
       "      <td>u2</td>\n",
       "      <td>m0</td>\n",
       "      <td>CAMERON</td>\n",
       "      <td>She okay?</td>\n",
       "    </tr>\n",
       "    <tr>\n",
       "      <td>4</td>\n",
       "      <td>L925</td>\n",
       "      <td>u0</td>\n",
       "      <td>m0</td>\n",
       "      <td>BIANCA</td>\n",
       "      <td>Let's go.</td>\n",
       "    </tr>\n",
       "  </tbody>\n",
       "</table>\n",
       "</div>"
      ],
      "text/plain": [
       "  lineId chId mId   chName      dialogue\n",
       "0  L1045   u0  m0   BIANCA  They do not!\n",
       "1  L1044   u2  m0  CAMERON   They do to!\n",
       "2   L985   u0  m0   BIANCA    I hope so.\n",
       "3   L984   u2  m0  CAMERON     She okay?\n",
       "4   L925   u0  m0   BIANCA     Let's go."
      ]
     },
     "execution_count": 30,
     "metadata": {},
     "output_type": "execute_result"
    }
   ],
   "source": [
    "line_df = pd.read_csv(\"./movie-dialog-corpus/movie_lines.tsv\", sep='\\t', warn_bad_lines=False, error_bad_lines=False,header=None)\n",
    "line_df.columns = ['lineId', 'chId', 'mId', 'chName','dialogue']\n",
    "line_df.head()\n"
   ]
  },
  {
   "cell_type": "code",
   "execution_count": 32,
   "metadata": {},
   "outputs": [
    {
     "data": {
      "text/html": [
       "<div>\n",
       "<style scoped>\n",
       "    .dataframe tbody tr th:only-of-type {\n",
       "        vertical-align: middle;\n",
       "    }\n",
       "\n",
       "    .dataframe tbody tr th {\n",
       "        vertical-align: top;\n",
       "    }\n",
       "\n",
       "    .dataframe thead th {\n",
       "        text-align: right;\n",
       "    }\n",
       "</style>\n",
       "<table border=\"1\" class=\"dataframe\">\n",
       "  <thead>\n",
       "    <tr style=\"text-align: right;\">\n",
       "      <th></th>\n",
       "      <th>chId</th>\n",
       "      <th>chName</th>\n",
       "      <th>mId</th>\n",
       "      <th>mName</th>\n",
       "      <th>gender</th>\n",
       "      <th>rank</th>\n",
       "    </tr>\n",
       "  </thead>\n",
       "  <tbody>\n",
       "    <tr>\n",
       "      <td>0</td>\n",
       "      <td>u0</td>\n",
       "      <td>BIANCA</td>\n",
       "      <td>m0</td>\n",
       "      <td>10 things i hate about you</td>\n",
       "      <td>f</td>\n",
       "      <td>4</td>\n",
       "    </tr>\n",
       "    <tr>\n",
       "      <td>1</td>\n",
       "      <td>u1</td>\n",
       "      <td>BRUCE</td>\n",
       "      <td>m0</td>\n",
       "      <td>10 things i hate about you</td>\n",
       "      <td>?</td>\n",
       "      <td>?</td>\n",
       "    </tr>\n",
       "    <tr>\n",
       "      <td>2</td>\n",
       "      <td>u2</td>\n",
       "      <td>CAMERON</td>\n",
       "      <td>m0</td>\n",
       "      <td>10 things i hate about you</td>\n",
       "      <td>m</td>\n",
       "      <td>3</td>\n",
       "    </tr>\n",
       "    <tr>\n",
       "      <td>3</td>\n",
       "      <td>u3</td>\n",
       "      <td>CHASTITY</td>\n",
       "      <td>m0</td>\n",
       "      <td>10 things i hate about you</td>\n",
       "      <td>?</td>\n",
       "      <td>?</td>\n",
       "    </tr>\n",
       "    <tr>\n",
       "      <td>4</td>\n",
       "      <td>u4</td>\n",
       "      <td>JOEY</td>\n",
       "      <td>m0</td>\n",
       "      <td>10 things i hate about you</td>\n",
       "      <td>m</td>\n",
       "      <td>6</td>\n",
       "    </tr>\n",
       "  </tbody>\n",
       "</table>\n",
       "</div>"
      ],
      "text/plain": [
       "  chId    chName mId                       mName gender rank\n",
       "0   u0    BIANCA  m0  10 things i hate about you      f    4\n",
       "1   u1     BRUCE  m0  10 things i hate about you      ?    ?\n",
       "2   u2   CAMERON  m0  10 things i hate about you      m    3\n",
       "3   u3  CHASTITY  m0  10 things i hate about you      ?    ?\n",
       "4   u4      JOEY  m0  10 things i hate about you      m    6"
      ]
     },
     "execution_count": 32,
     "metadata": {},
     "output_type": "execute_result"
    }
   ],
   "source": [
    "char_df = pd.read_csv(\"./movie-dialog-corpus/movie_characters_metadata.tsv\", sep='\\t', warn_bad_lines=False, error_bad_lines=False,header=None)\n",
    "char_df.columns = ['chId', 'chName', 'mId', 'mName', 'gender', 'rank']\n",
    "char_df.head()"
   ]
  },
  {
   "cell_type": "code",
   "execution_count": 34,
   "metadata": {},
   "outputs": [
    {
     "data": {
      "text/html": [
       "<div>\n",
       "<style scoped>\n",
       "    .dataframe tbody tr th:only-of-type {\n",
       "        vertical-align: middle;\n",
       "    }\n",
       "\n",
       "    .dataframe tbody tr th {\n",
       "        vertical-align: top;\n",
       "    }\n",
       "\n",
       "    .dataframe thead th {\n",
       "        text-align: right;\n",
       "    }\n",
       "</style>\n",
       "<table border=\"1\" class=\"dataframe\">\n",
       "  <thead>\n",
       "    <tr style=\"text-align: right;\">\n",
       "      <th></th>\n",
       "      <th>mId</th>\n",
       "      <th>mName</th>\n",
       "      <th>year</th>\n",
       "      <th>rating</th>\n",
       "      <th>numVotes</th>\n",
       "      <th>genres</th>\n",
       "    </tr>\n",
       "  </thead>\n",
       "  <tbody>\n",
       "    <tr>\n",
       "      <td>0</td>\n",
       "      <td>m0</td>\n",
       "      <td>10 things i hate about you</td>\n",
       "      <td>1999</td>\n",
       "      <td>6.9</td>\n",
       "      <td>62847.0</td>\n",
       "      <td>['comedy' 'romance']</td>\n",
       "    </tr>\n",
       "    <tr>\n",
       "      <td>1</td>\n",
       "      <td>m1</td>\n",
       "      <td>1492: conquest of paradise</td>\n",
       "      <td>1992</td>\n",
       "      <td>6.2</td>\n",
       "      <td>10421.0</td>\n",
       "      <td>['adventure' 'biography' 'drama' 'history']</td>\n",
       "    </tr>\n",
       "    <tr>\n",
       "      <td>2</td>\n",
       "      <td>m2</td>\n",
       "      <td>15 minutes</td>\n",
       "      <td>2001</td>\n",
       "      <td>6.1</td>\n",
       "      <td>25854.0</td>\n",
       "      <td>['action' 'crime' 'drama' 'thriller']</td>\n",
       "    </tr>\n",
       "    <tr>\n",
       "      <td>3</td>\n",
       "      <td>m3</td>\n",
       "      <td>2001: a space odyssey</td>\n",
       "      <td>1968</td>\n",
       "      <td>8.4</td>\n",
       "      <td>163227.0</td>\n",
       "      <td>['adventure' 'mystery' 'sci-fi']</td>\n",
       "    </tr>\n",
       "    <tr>\n",
       "      <td>4</td>\n",
       "      <td>m4</td>\n",
       "      <td>48 hrs.</td>\n",
       "      <td>1982</td>\n",
       "      <td>6.9</td>\n",
       "      <td>22289.0</td>\n",
       "      <td>['action' 'comedy' 'crime' 'drama' 'thriller']</td>\n",
       "    </tr>\n",
       "  </tbody>\n",
       "</table>\n",
       "</div>"
      ],
      "text/plain": [
       "  mId                       mName  year  rating  numVotes  \\\n",
       "0  m0  10 things i hate about you  1999     6.9   62847.0   \n",
       "1  m1  1492: conquest of paradise  1992     6.2   10421.0   \n",
       "2  m2                  15 minutes  2001     6.1   25854.0   \n",
       "3  m3       2001: a space odyssey  1968     8.4  163227.0   \n",
       "4  m4                     48 hrs.  1982     6.9   22289.0   \n",
       "\n",
       "                                           genres  \n",
       "0                            ['comedy' 'romance']  \n",
       "1     ['adventure' 'biography' 'drama' 'history']  \n",
       "2           ['action' 'crime' 'drama' 'thriller']  \n",
       "3                ['adventure' 'mystery' 'sci-fi']  \n",
       "4  ['action' 'comedy' 'crime' 'drama' 'thriller']  "
      ]
     },
     "execution_count": 34,
     "metadata": {},
     "output_type": "execute_result"
    }
   ],
   "source": [
    "movie_df = pd.read_csv(\"./movie-dialog-corpus/movie_titles_metadata.tsv\", sep='\\t', warn_bad_lines=False, error_bad_lines=False,header=None)\n",
    "movie_df.columns = ['mId', 'mName', 'year', 'rating', 'numVotes', 'genres']\n",
    "movie_df.head()"
   ]
  },
  {
   "cell_type": "code",
   "execution_count": 41,
   "metadata": {},
   "outputs": [
    {
     "name": "stdout",
     "output_type": "stream",
     "text": [
      "Total 293202 utterances\n",
      "['They do not!', 'They do to!', 'I hope so.']\n"
     ]
    }
   ],
   "source": [
    "lines = line_df['dialogue'].to_list()\n",
    "print(f'Total {len(lines)} utterances')\n",
    "print(lines[:3])"
   ]
  },
  {
   "cell_type": "code",
   "execution_count": 46,
   "metadata": {},
   "outputs": [
    {
     "name": "stdout",
     "output_type": "stream",
     "text": [
      "Number of unique characters is 8758\n",
      "['u0', 'u2', 'u0']\n"
     ]
    }
   ],
   "source": [
    "char_id = line_df['chId'].to_list()\n",
    "print(f'Number of unique characters is {len(set(char_id))}')\n",
    "print(char_id[:3])"
   ]
  },
  {
   "cell_type": "code",
   "execution_count": 47,
   "metadata": {},
   "outputs": [
    {
     "name": "stdout",
     "output_type": "stream",
     "text": [
      "Number of unique names is 5215\n",
      "['BIANCA', 'CAMERON', 'BIANCA']\n"
     ]
    }
   ],
   "source": [
    "char_name = line_df['chName'].to_list()\n",
    "print(f'Number of unique names is {len(set(char_name))}')\n",
    "print(char_name[:3])"
   ]
  },
  {
   "cell_type": "code",
   "execution_count": 52,
   "metadata": {},
   "outputs": [],
   "source": [
    "char_line = collections.defaultdict(list) "
   ]
  },
  {
   "cell_type": "code",
   "execution_count": 53,
   "metadata": {},
   "outputs": [],
   "source": [
    "for i in range(len(lines)):\n",
    "    char_line[char_id[i]].append(lines[i])"
   ]
  },
  {
   "cell_type": "code",
   "execution_count": 59,
   "metadata": {},
   "outputs": [
    {
     "name": "stdout",
     "output_type": "stream",
     "text": [
      "['She died in her sleep three days ago.  It was in the paper...', \"Tom... she's dead.\", 'What?', 'Who are you calling?', 'What was I supposed to think happened to you?!', \"You're killing me...\", \"Look where we are.  Look at yourself.  You son of a bitch you don't have any idea what you're putting me through...\", 'You should have.', \"No I don't because you're not telling me anything!\", \"You couldn't?\", \"You owe me an explanation.  You can't treat me like this.\", \"You're sorry?  What was I supposed to think?\", \"Why haven't you called?  Why don't you answer your phone?\", 'Tom...', \"What's going on Tom?  What happened?\", 'What happened to you?', \"... What's going on?\", \"What's wrong?  Are you alright?\", 'Tom?  Where have you been... ?', 'Hello?', 'Why the gun?', 'I know.', 'I understand.', \"Betty's out of town so we're playing next week.\", \"You're not using the same guy who tried to fix it?\", \"You think you'll have time for the water heater this weekend?\", 'I love you.', \"You better not be smoking that's all I can say.\", \"How's the detective business?\", 'Okay I believe you.', \"I'm not accusing you...\"]\n"
     ]
    }
   ],
   "source": [
    "print(char_line['u100'])"
   ]
  },
  {
   "cell_type": "code",
   "execution_count": 65,
   "metadata": {},
   "outputs": [
    {
     "data": {
      "text/plain": [
       "(-0.5, 399.5, 199.5, -0.5)"
      ]
     },
     "execution_count": 65,
     "metadata": {},
     "output_type": "execute_result"
    },
    {
     "data": {
      "image/png": "[encoded data removed]",
      "text/plain": [
       "<Figure size 432x288 with 1 Axes>"
      ]
     },
     "metadata": {
      "needs_background": "light"
     },
     "output_type": "display_data"
    }
   ],
   "source": [
    "dialogues = char_line['u100']\n",
    "words = [word for d in dialogues for word in d.split(\" \")]\n",
    "wordcloud = WordCloud(max_font_size=40,background_color=\"white\").generate(\" \".join(words))\n",
    "plt.figure()\n",
    "# plt.title(\"%s's word cloud from \\\"%s\\\"\"%(chName,mName))\n",
    "plt.imshow(wordcloud, interpolation=\"bilinear\")\n",
    "plt.axis(\"off\")"
   ]
  },
  {
   "cell_type": "code",
   "execution_count": null,
   "metadata": {},
   "outputs": [],
   "source": []
  }
 ],
 "metadata": {
  "kernelspec": {
   "display_name": "Python 3",
   "language": "python",
   "name": "python3"
  },
  "language_info": {
   "codemirror_mode": {
    "name": "ipython",
    "version": 3
   },
   "file_extension": ".py",
   "mimetype": "text/x-python",
   "name": "python",
   "nbconvert_exporter": "python",
   "pygments_lexer": "ipython3",
   "version": "3.7.4"
  }
 },
 "nbformat": 4,
 "nbformat_minor": 4
}
